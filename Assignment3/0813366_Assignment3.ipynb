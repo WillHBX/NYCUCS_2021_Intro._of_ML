{
 "cells": [
  {
   "cell_type": "markdown",
   "id": "a6e13d5a",
   "metadata": {},
   "source": [
    "# Assignment \\#3 - K-means Clustering & SVM  \n",
    "## 0813366 黃柏翔\n"
   ]
  },
  {
   "cell_type": "markdown",
   "id": "1b2514a9",
   "metadata": {},
   "source": [
    "# K-means  \n",
    "confusion matrix is shown below"
   ]
  },
  {
   "cell_type": "code",
   "execution_count": 34,
   "id": "3f2dedab",
   "metadata": {},
   "outputs": [],
   "source": [
    "import re\n",
    "import pandas as pd\n",
    "import numpy as np\n",
    "\n",
    "df = pd.read_csv('seeds_dataset.txt',sep = '\\t+', names=[], engine='python')\n",
    "\n",
    "# drop labels\n",
    "\n",
    "all_data = df.values\n",
    "np.random.shuffle(all_data)\n",
    "true_label = all_data[:,-1]\n",
    "data =all_data[:,:-1]\n",
    "\n"
   ]
  },
  {
   "cell_type": "code",
   "execution_count": 35,
   "id": "b75c9b47",
   "metadata": {},
   "outputs": [],
   "source": [
    "def kmeans(X, num_clusters):\n",
    "\n",
    "\n",
    "  np.random.seed(127)\n",
    "\n",
    "  cluster_indices = np.zeros(X.shape[0],dtype='i')\n",
    "\n",
    "  # random cluster\n",
    "   \n",
    "  ub = np.max(X,axis = 0)\n",
    "  lb = np.min(X,axis = 0)\n",
    "  pre_clusters = clusters = np.random.uniform(lb,ub,size = (num_clusters,X.shape[1]))\n",
    "  #print(pre_clusters)\n",
    "\n",
    "  while True:\n",
    "    min_distance_cluster = 0\n",
    "    tmp = float(\"inf\")\n",
    "    for i in range(X.shape[0]):\n",
    "      tmp = float(\"inf\")\n",
    "      for c in range(num_clusters):\n",
    "        #print(np.power(X[i] - clusters[c],2).shape)\n",
    "        dis = np.mean(((X[i] - clusters[c])**2).sum(axis=0))        \n",
    "        if dis<tmp:\n",
    "          tmp = dis\n",
    "          min_distance_cluster = c\n",
    "      cluster_indices[i] = int(min_distance_cluster)\n",
    "\n",
    "    total = np.zeros([num_clusters, X.shape[1]])\n",
    "    count = np.zeros([num_clusters])\n",
    "    #print(cluster_indices)\n",
    "    for x, c in zip(X, cluster_indices):\n",
    "      #print(type(c))\n",
    "      total[c] += x\n",
    "      count[c] += 1\n",
    "\n",
    "    count[count == 0] = 1 # avoid zero division when there is nothing in a cluster\n",
    "    clusters = total / count[:, np.newaxis]\n",
    "\n",
    "\n",
    "    if (pre_clusters == clusters).all():\n",
    "      return cluster_indices, clusters\n",
    "    \n",
    "    pre_clusters = clusters\n"
   ]
  },
  {
   "cell_type": "code",
   "execution_count": 36,
   "id": "ddab0b3c",
   "metadata": {},
   "outputs": [
    {
     "name": "stdout",
     "output_type": "stream",
     "text": [
      "confusion matrix\n",
      "\n",
      " [[60  1  9]\n",
      " [10 60  0]\n",
      " [ 2  0 68]]\n",
      "              precision    recall  f1-score   support\n",
      "\n",
      "        Kama     0.8333    0.8571    0.8451        70\n",
      "        Rosa     0.9836    0.8571    0.9160        70\n",
      "    Canadian     0.8831    0.9714    0.9252        70\n",
      "\n",
      "    accuracy                         0.8952       210\n",
      "   macro avg     0.9000    0.8952    0.8954       210\n",
      "weighted avg     0.9000    0.8952    0.8954       210\n",
      "\n"
     ]
    }
   ],
   "source": [
    "from sklearn.metrics import confusion_matrix\n",
    "from sklearn.metrics import classification_report\n",
    "\n",
    "pred_label, centers = kmeans(data,3)\n",
    "\n",
    "print('confusion matrix\\n\\n',confusion_matrix(true_label,pred_label+1))\n",
    "print(classification_report(true_label,pred_label+1,digits = 4, target_names=['Kama','Rosa','Canadian']))\n"
   ]
  },
  {
   "cell_type": "markdown",
   "id": "f86db01c",
   "metadata": {},
   "source": [
    "## Q1.\n",
    "### Choose two features to execute your K-means function and draw a scatter plot with the computed centers and the predicted label for each instance.\n",
    "\n",
    "I chose the length of kernel and the area as two features in the graph here."
   ]
  },
  {
   "cell_type": "code",
   "execution_count": 37,
   "id": "214f08dd",
   "metadata": {},
   "outputs": [
    {
     "data": {
      "text/plain": [
       "<matplotlib.legend.Legend at 0x24ba4e4d910>"
      ]
     },
     "execution_count": 37,
     "metadata": {},
     "output_type": "execute_result"
    },
    {
     "data": {
      "image/png": "[encoded data removed]",
      "text/plain": [
       "<Figure size 432x288 with 1 Axes>"
      ]
     },
     "metadata": {
      "needs_background": "light"
     },
     "output_type": "display_data"
    }
   ],
   "source": [
    "import matplotlib.pyplot as plt\n",
    "\n",
    "Kama = np.array([data[i]  for i,l in enumerate(pred_label) if l == 0])\n",
    "Rosa = np.array([data[i]  for i,l in enumerate(pred_label) if l == 1])\n",
    "Canadian = np.array([data[i]  for i,l in enumerate(pred_label) if l == 2])\n",
    "\n",
    "plt.scatter(Kama[:,0], Kama[:,3], c='pink', s=50, label = 'Kama')\n",
    "plt.scatter(Rosa[:,0], Rosa[:,3], c='blueviolet', s=50,label = 'Rosa' )\n",
    "plt.scatter(Canadian[:,0], Canadian[:,3], c='burlywood', s=50,label = 'Canadian' )\n",
    "plt.scatter(centers[:, 0], centers[:, 3], c='red', s=200, alpha=0.5)\n",
    "plt.xlabel('area ')\n",
    "plt.ylabel('length of kernel')\n",
    "plt.legend()"
   ]
  },
  {
   "cell_type": "markdown",
   "id": "a457d27b",
   "metadata": {},
   "source": [
    "# SVM"
   ]
  },
  {
   "cell_type": "code",
   "execution_count": 38,
   "id": "8977a9c1",
   "metadata": {},
   "outputs": [],
   "source": [
    "# Holdout validation with the ratio of 7:3\n",
    "\n",
    "df = pd.read_csv('ionosphere.data',sep = ',',header=None)\n",
    "df = df.sample(frac=1) # shuffle\n",
    "\n",
    "split =  int(len(df.index)*7/10)\n",
    "\n",
    "train_X = df.iloc[:split,:-1]\n",
    "test_X = df.iloc[split:,:-1]\n",
    "\n",
    "train_y = df.iloc[:split,-1]\n",
    "test_y = df.iloc[split:,-1]\n",
    "\n"
   ]
  },
  {
   "cell_type": "markdown",
   "id": "870fc312",
   "metadata": {},
   "source": [
    "## - linear kernel"
   ]
  },
  {
   "cell_type": "code",
   "execution_count": 39,
   "id": "0196e808",
   "metadata": {},
   "outputs": [
    {
     "name": "stdout",
     "output_type": "stream",
     "text": [
      "confusion matrix\n",
      "\n",
      " [[25 13]\n",
      " [ 2 66]]\n",
      "              precision    recall  f1-score   support\n",
      "\n",
      "           b     0.9259    0.6579    0.7692        38\n",
      "           g     0.8354    0.9706    0.8980        68\n",
      "\n",
      "    accuracy                         0.8585       106\n",
      "   macro avg     0.8807    0.8142    0.8336       106\n",
      "weighted avg     0.8679    0.8585    0.8518       106\n",
      "\n"
     ]
    }
   ],
   "source": [
    "from sklearn.svm import SVC\n",
    "from sklearn.model_selection import GridSearchCV\n",
    "\n",
    "clf = SVC(kernel='linear')\n",
    "clf.fit(train_X,train_y)\n",
    "\n",
    "grid_predictions = clf.predict(test_X)\n",
    "print('confusion matrix\\n\\n',confusion_matrix(test_y,grid_predictions))\n",
    "print(classification_report(test_y,grid_predictions,digits = 4))#Output"
   ]
  },
  {
   "cell_type": "markdown",
   "id": "9a3c12c8",
   "metadata": {},
   "source": [
    "## - polynomial kernel\n",
    "\n",
    "可以看見在GridSearchCV()中，已經有做 5-hold validation  \n",
    "cv_results_中的 split*N*_test_score, *N* 表示第幾個fold  \n"
   ]
  },
  {
   "cell_type": "code",
   "execution_count": 44,
   "id": "0b128284",
   "metadata": {},
   "outputs": [
    {
     "name": "stdout",
     "output_type": "stream",
     "text": [
      "Best estimator:  SVC(coef0=1, gamma=1, kernel='poly', max_iter=100000) \n",
      "\n",
      "Results:\n"
     ]
    },
    {
     "data": {
      "text/plain": [
       "{'mean_fit_time': array([0.00462799, 0.00370727, 0.0032773 , 0.00292788, 0.00298014,\n",
       "        0.0031909 , 0.00309906, 0.00210533, 0.00398445, 0.0034389 ,\n",
       "        0.00363202, 0.00359001, 0.00299201, 0.0033875 , 0.00335584,\n",
       "        0.02397079, 0.00180726, 0.00210028, 0.00431461, 0.00353675,\n",
       "        0.00280523, 0.00353832, 0.00272489, 0.00451269, 0.00180149,\n",
       "        0.00160255, 0.00195847]),\n",
       " 'std_fit_time': array([1.21054783e-03, 6.22559342e-04, 3.65150302e-04, 5.09858711e-04,\n",
       "        9.33018142e-06, 3.98799803e-04, 4.90585067e-04, 2.22875983e-04,\n",
       "        3.51668064e-03, 3.85215766e-04, 6.24052010e-04, 4.88548550e-04,\n",
       "        2.43140197e-07, 4.86932588e-04, 4.46897107e-04, 3.86768773e-03,\n",
       "        4.05482015e-04, 6.64794241e-04, 4.11627185e-04, 4.54899285e-04,\n",
       "        3.86990386e-04, 4.32211350e-04, 3.83298069e-04, 2.24733548e-03,\n",
       "        4.03140593e-04, 4.93592419e-04, 7.92309959e-05]),\n",
       " 'mean_score_time': array([0.0019927 , 0.00159702, 0.00161719, 0.00199032, 0.00180335,\n",
       "        0.00160484, 0.00119796, 0.00139675, 0.0018044 , 0.00180511,\n",
       "        0.00159693, 0.00199008, 0.00179534, 0.00160236, 0.00191917,\n",
       "        0.0028194 , 0.00138984, 0.00139785, 0.0013989 , 0.00139904,\n",
       "        0.00138917, 0.00160074, 0.00177703, 0.00227985, 0.00140314,\n",
       "        0.00139613, 0.00101595]),\n",
       " 'std_score_time': array([8.87390454e-04, 4.89575670e-04, 4.64211468e-04, 6.27674374e-04,\n",
       "        3.92967326e-04, 4.79456322e-04, 4.08712664e-04, 4.89221181e-04,\n",
       "        7.49203690e-04, 3.95031351e-04, 4.98559872e-04, 1.24234154e-05,\n",
       "        3.98898449e-04, 4.93496889e-04, 5.22003823e-04, 1.64992853e-03,\n",
       "        4.98306069e-04, 4.95162592e-04, 4.89809501e-04, 4.75164460e-04,\n",
       "        4.82559077e-04, 4.91082456e-04, 2.80501808e-04, 1.63846424e-03,\n",
       "        4.96961585e-04, 4.87199144e-04, 3.78764214e-05]),\n",
       " 'param_coef0': masked_array(data=[1, 1, 1, 1, 1, 1, 1, 1, 1, 10, 10, 10, 10, 10, 10, 10,\n",
       "                    10, 10, 100, 100, 100, 100, 100, 100, 100, 100, 100],\n",
       "              mask=[False, False, False, False, False, False, False, False,\n",
       "                    False, False, False, False, False, False, False, False,\n",
       "                    False, False, False, False, False, False, False, False,\n",
       "                    False, False, False],\n",
       "        fill_value='?',\n",
       "             dtype=object),\n",
       " 'param_degree': masked_array(data=[3, 3, 3, 9, 9, 9, 27, 27, 27, 3, 3, 3, 9, 9, 9, 27, 27,\n",
       "                    27, 3, 3, 3, 9, 9, 9, 27, 27, 27],\n",
       "              mask=[False, False, False, False, False, False, False, False,\n",
       "                    False, False, False, False, False, False, False, False,\n",
       "                    False, False, False, False, False, False, False, False,\n",
       "                    False, False, False],\n",
       "        fill_value='?',\n",
       "             dtype=object),\n",
       " 'param_gamma': masked_array(data=[1, 10, 100, 1, 10, 100, 1, 10, 100, 1, 10, 100, 1, 10,\n",
       "                    100, 1, 10, 100, 1, 10, 100, 1, 10, 100, 1, 10, 100],\n",
       "              mask=[False, False, False, False, False, False, False, False,\n",
       "                    False, False, False, False, False, False, False, False,\n",
       "                    False, False, False, False, False, False, False, False,\n",
       "                    False, False, False],\n",
       "        fill_value='?',\n",
       "             dtype=object),\n",
       " 'param_kernel': masked_array(data=['poly', 'poly', 'poly', 'poly', 'poly', 'poly', 'poly',\n",
       "                    'poly', 'poly', 'poly', 'poly', 'poly', 'poly', 'poly',\n",
       "                    'poly', 'poly', 'poly', 'poly', 'poly', 'poly', 'poly',\n",
       "                    'poly', 'poly', 'poly', 'poly', 'poly', 'poly'],\n",
       "              mask=[False, False, False, False, False, False, False, False,\n",
       "                    False, False, False, False, False, False, False, False,\n",
       "                    False, False, False, False, False, False, False, False,\n",
       "                    False, False, False],\n",
       "        fill_value='?',\n",
       "             dtype=object),\n",
       " 'params': [{'coef0': 1, 'degree': 3, 'gamma': 1, 'kernel': 'poly'},\n",
       "  {'coef0': 1, 'degree': 3, 'gamma': 10, 'kernel': 'poly'},\n",
       "  {'coef0': 1, 'degree': 3, 'gamma': 100, 'kernel': 'poly'},\n",
       "  {'coef0': 1, 'degree': 9, 'gamma': 1, 'kernel': 'poly'},\n",
       "  {'coef0': 1, 'degree': 9, 'gamma': 10, 'kernel': 'poly'},\n",
       "  {'coef0': 1, 'degree': 9, 'gamma': 100, 'kernel': 'poly'},\n",
       "  {'coef0': 1, 'degree': 27, 'gamma': 1, 'kernel': 'poly'},\n",
       "  {'coef0': 1, 'degree': 27, 'gamma': 10, 'kernel': 'poly'},\n",
       "  {'coef0': 1, 'degree': 27, 'gamma': 100, 'kernel': 'poly'},\n",
       "  {'coef0': 10, 'degree': 3, 'gamma': 1, 'kernel': 'poly'},\n",
       "  {'coef0': 10, 'degree': 3, 'gamma': 10, 'kernel': 'poly'},\n",
       "  {'coef0': 10, 'degree': 3, 'gamma': 100, 'kernel': 'poly'},\n",
       "  {'coef0': 10, 'degree': 9, 'gamma': 1, 'kernel': 'poly'},\n",
       "  {'coef0': 10, 'degree': 9, 'gamma': 10, 'kernel': 'poly'},\n",
       "  {'coef0': 10, 'degree': 9, 'gamma': 100, 'kernel': 'poly'},\n",
       "  {'coef0': 10, 'degree': 27, 'gamma': 1, 'kernel': 'poly'},\n",
       "  {'coef0': 10, 'degree': 27, 'gamma': 10, 'kernel': 'poly'},\n",
       "  {'coef0': 10, 'degree': 27, 'gamma': 100, 'kernel': 'poly'},\n",
       "  {'coef0': 100, 'degree': 3, 'gamma': 1, 'kernel': 'poly'},\n",
       "  {'coef0': 100, 'degree': 3, 'gamma': 10, 'kernel': 'poly'},\n",
       "  {'coef0': 100, 'degree': 3, 'gamma': 100, 'kernel': 'poly'},\n",
       "  {'coef0': 100, 'degree': 9, 'gamma': 1, 'kernel': 'poly'},\n",
       "  {'coef0': 100, 'degree': 9, 'gamma': 10, 'kernel': 'poly'},\n",
       "  {'coef0': 100, 'degree': 9, 'gamma': 100, 'kernel': 'poly'},\n",
       "  {'coef0': 100, 'degree': 27, 'gamma': 1, 'kernel': 'poly'},\n",
       "  {'coef0': 100, 'degree': 27, 'gamma': 10, 'kernel': 'poly'},\n",
       "  {'coef0': 100, 'degree': 27, 'gamma': 100, 'kernel': 'poly'}],\n",
       " 'split0_test_score': array([0.91836735, 0.91836735, 0.91836735, 0.89795918, 0.89795918,\n",
       "        0.87755102, 0.85714286, 0.65306122, 0.65306122, 0.89795918,\n",
       "        0.91836735, 0.91836735, 0.83673469, 0.89795918, 0.89795918,\n",
       "        0.81632653, 0.65306122, 0.65306122, 0.83673469, 0.89795918,\n",
       "        0.91836735, 0.85714286, 0.83673469, 0.89795918, 0.65306122,\n",
       "        0.65306122, 0.65306122]),\n",
       " 'split1_test_score': array([0.95918367, 0.93877551, 0.93877551, 0.87755102, 0.87755102,\n",
       "        0.89795918, 0.89795918, 0.65306122, 0.65306122, 0.93877551,\n",
       "        0.95918367, 0.93877551, 0.93877551, 0.87755102, 0.87755102,\n",
       "        0.79591837, 0.65306122, 0.65306122, 0.93877551, 0.93877551,\n",
       "        0.95918367, 0.95918367, 0.93877551, 0.87755102, 0.65306122,\n",
       "        0.65306122, 0.65306122]),\n",
       " 'split2_test_score': array([0.87755102, 0.89795918, 0.89795918, 0.83673469, 0.85714286,\n",
       "        0.85714286, 0.81632653, 0.63265306, 0.63265306, 0.85714286,\n",
       "        0.87755102, 0.89795918, 0.83673469, 0.83673469, 0.85714286,\n",
       "        0.63265306, 0.63265306, 0.63265306, 0.89795918, 0.85714286,\n",
       "        0.87755102, 0.87755102, 0.83673469, 0.83673469, 0.63265306,\n",
       "        0.63265306, 0.63265306]),\n",
       " 'split3_test_score': array([0.87755102, 0.85714286, 0.85714286, 0.83673469, 0.83673469,\n",
       "        0.81632653, 0.63265306, 0.63265306, 0.63265306, 0.83673469,\n",
       "        0.87755102, 0.85714286, 0.85714286, 0.83673469, 0.83673469,\n",
       "        0.63265306, 0.63265306, 0.63265306, 0.79591837, 0.83673469,\n",
       "        0.87755102, 0.83673469, 0.85714286, 0.83673469, 0.63265306,\n",
       "        0.63265306, 0.63265306]),\n",
       " 'split4_test_score': array([0.83673469, 0.83673469, 0.83673469, 0.85714286, 0.85714286,\n",
       "        0.85714286, 0.63265306, 0.63265306, 0.63265306, 0.79591837,\n",
       "        0.83673469, 0.83673469, 0.83673469, 0.85714286, 0.85714286,\n",
       "        0.63265306, 0.63265306, 0.63265306, 0.83673469, 0.79591837,\n",
       "        0.83673469, 0.79591837, 0.83673469, 0.85714286, 0.63265306,\n",
       "        0.63265306, 0.63265306]),\n",
       " 'mean_test_score': array([0.89387755, 0.88979592, 0.88979592, 0.86122449, 0.86530612,\n",
       "        0.86122449, 0.76734694, 0.64081633, 0.64081633, 0.86530612,\n",
       "        0.89387755, 0.88979592, 0.86122449, 0.86122449, 0.86530612,\n",
       "        0.70204082, 0.64081633, 0.64081633, 0.86122449, 0.86530612,\n",
       "        0.89387755, 0.86530612, 0.86122449, 0.86122449, 0.64081633,\n",
       "        0.64081633, 0.64081633]),\n",
       " 'std_test_score': array([0.04162465, 0.0378515 , 0.0378515 , 0.0237998 , 0.02081232,\n",
       "        0.02707449, 0.11296614, 0.00999792, 0.00999792, 0.04931855,\n",
       "        0.04162465, 0.0378515 , 0.0395729 , 0.0237998 , 0.02081232,\n",
       "        0.08522699, 0.00999792, 0.00999792, 0.05065173, 0.04931855,\n",
       "        0.04162465, 0.05414898, 0.0395729 , 0.0237998 , 0.00999792,\n",
       "        0.00999792, 0.00999792]),\n",
       " 'rank_test_score': array([ 1,  4,  4, 14, 10, 14, 19, 21, 21,  7,  1,  4, 12, 14, 10, 20, 21,\n",
       "        21, 14,  7,  1,  7, 12, 14, 21, 21, 21])}"
      ]
     },
     "execution_count": 44,
     "metadata": {},
     "output_type": "execute_result"
    }
   ],
   "source": [
    "from warnings import simplefilter\n",
    "from sklearn.exceptions import ConvergenceWarning\n",
    "simplefilter(\"ignore\", category=ConvergenceWarning)\n",
    "\n",
    "parameters = {'kernel': ['poly'],\n",
    "                'degree': [3,9,27],\n",
    "                'gamma': [1, 10, 100],\n",
    "                'coef0': [1,10,100]\n",
    "                }\n",
    "\n",
    "clf = GridSearchCV(SVC(max_iter = 100000), parameters)\n",
    "clf.fit(train_X,train_y)\n",
    "\n",
    "print('Best estimator: ',clf.best_estimator_,'\\n')\n",
    "print('Results:')\n",
    "clf.cv_results_"
   ]
  },
  {
   "cell_type": "markdown",
   "id": "b3e8e294",
   "metadata": {},
   "source": [
    "# Q2  \n",
    "Show the average performance of K-fold cross-validation of parameter search in tables for each kernel.\n",
    "\n",
    "## - coef0 = 1 , mean_test_score\n",
    "\n",
    "|gamma\\degree|**3**|9|27\n",
    "|:------:|:------:|:------:|:------:|\n",
    "|**1**   |**0.8939**|0.8612|0.7673|\n",
    "|10 |0.8898|0.8653|0.6408|\n",
    "|100|0.8571|0.8612|0.6408|\n",
    "  \n",
    "## - coef0 = 10 , mean_test_score\n",
    "\n",
    "|gamma\\degree|3|9|27\n",
    "|:------:|:------:|:------:|:------:|\n",
    "|1   |0.8653|0.8612|0.7020|\n",
    "|10 |0.8939|0.8612|0.6408|\n",
    "|100|0.8898|0.8653|0.6408|\n",
    "  \n",
    "## - coef0 = 100 , mean_test_score\n",
    "\n",
    "|gamma\\degree|3|9|27\n",
    "|:------:|:------:|:------:|:------:|\n",
    "|1   |0.8612|0.8653|0.6408|\n",
    "|10 |0.8653|0.8612|0.6408|\n",
    "|100|0.8939|0.8612|0.6408|"
   ]
  },
  {
   "cell_type": "markdown",
   "id": "157b3014",
   "metadata": {},
   "source": [
    "GridSearchCV() 預設 **refit = True**  \n",
    "\n",
    "所以predict時已經是用最佳的參數"
   ]
  },
  {
   "cell_type": "code",
   "execution_count": 45,
   "id": "94e316ff",
   "metadata": {},
   "outputs": [
    {
     "name": "stdout",
     "output_type": "stream",
     "text": [
      "confusion matrix\n",
      "\n",
      " [[30  8]\n",
      " [ 6 62]]\n",
      "              precision    recall  f1-score   support\n",
      "\n",
      "           b     0.8333    0.7895    0.8108        38\n",
      "           g     0.8857    0.9118    0.8986        68\n",
      "\n",
      "    accuracy                         0.8679       106\n",
      "   macro avg     0.8595    0.8506    0.8547       106\n",
      "weighted avg     0.8669    0.8679    0.8671       106\n",
      "\n"
     ]
    }
   ],
   "source": [
    "grid_predictions = clf.predict(test_X)\n",
    "\n",
    "print('confusion matrix\\n\\n',confusion_matrix(test_y,grid_predictions))\n",
    "print(classification_report(test_y,grid_predictions,digits = 4))#Output"
   ]
  },
  {
   "cell_type": "markdown",
   "id": "0264235e",
   "metadata": {},
   "source": [
    "## - RBF kernel\n",
    "\n",
    "可以看見在GridSearchCV()中，已經有做 5-hold validation  \n",
    "cv_results_中的 split*N*_test_score, *N* 表示第幾個fold  \n"
   ]
  },
  {
   "cell_type": "code",
   "execution_count": 46,
   "id": "bfc68964",
   "metadata": {},
   "outputs": [
    {
     "name": "stdout",
     "output_type": "stream",
     "text": [
      "Best estimator:  SVC(gamma=1) \n",
      "\n",
      "Results:\n"
     ]
    },
    {
     "data": {
      "text/plain": [
       "{'mean_fit_time': array([0.00417714, 0.00438848, 0.00578551]),\n",
       " 'std_fit_time': array([0.00099095, 0.00079843, 0.00074327]),\n",
       " 'mean_score_time': array([0.00289412, 0.00279226, 0.00259304]),\n",
       " 'std_score_time': array([0.00079736, 0.00039879, 0.00048839]),\n",
       " 'param_gamma': masked_array(data=[1, 10, 100],\n",
       "              mask=[False, False, False],\n",
       "        fill_value='?',\n",
       "             dtype=object),\n",
       " 'param_kernel': masked_array(data=['rbf', 'rbf', 'rbf'],\n",
       "              mask=[False, False, False],\n",
       "        fill_value='?',\n",
       "             dtype=object),\n",
       " 'params': [{'gamma': 1, 'kernel': 'rbf'},\n",
       "  {'gamma': 10, 'kernel': 'rbf'},\n",
       "  {'gamma': 100, 'kernel': 'rbf'}],\n",
       " 'split0_test_score': array([0.95918367, 0.69387755, 0.67346939]),\n",
       " 'split1_test_score': array([0.89795918, 0.67346939, 0.67346939]),\n",
       " 'split2_test_score': array([0.93877551, 0.63265306, 0.63265306]),\n",
       " 'split3_test_score': array([0.93877551, 0.65306122, 0.63265306]),\n",
       " 'split4_test_score': array([0.85714286, 0.65306122, 0.63265306]),\n",
       " 'mean_test_score': array([0.91836735, 0.66122449, 0.64897959]),\n",
       " 'std_test_score': array([0.03650723, 0.02081232, 0.01999583]),\n",
       " 'rank_test_score': array([1, 2, 3])}"
      ]
     },
     "execution_count": 46,
     "metadata": {},
     "output_type": "execute_result"
    }
   ],
   "source": [
    "parameters = {'kernel': ['rbf'],\n",
    "                'gamma': [1, 10, 100],\n",
    "                }\n",
    "\n",
    "clf = GridSearchCV(SVC(), parameters)\n",
    "clf.fit(train_X,train_y)\n",
    "\n",
    "print('Best estimator: ',clf.best_estimator_,'\\n')\n",
    "print('Results:')\n",
    "clf.cv_results_"
   ]
  },
  {
   "cell_type": "markdown",
   "id": "12aa37f0",
   "metadata": {},
   "source": [
    "## mean_test_score\n",
    "\n",
    "best: gamma = 1\n",
    "\n",
    "|gamma|**1**|10|100\n",
    "|:------:|:------:|:------:|:------:|\n",
    "||**0.9184**|0.6612|0.6490|\n"
   ]
  },
  {
   "cell_type": "markdown",
   "id": "fb8da8ff",
   "metadata": {},
   "source": [
    "GridSearchCV() 預設 **refit = True**  \n",
    "\n",
    "所以predict時已經是用最佳的參數"
   ]
  },
  {
   "cell_type": "code",
   "execution_count": 47,
   "id": "55f0ed75",
   "metadata": {},
   "outputs": [
    {
     "name": "stdout",
     "output_type": "stream",
     "text": [
      "[[37  1]\n",
      " [ 5 63]]\n",
      "              precision    recall  f1-score   support\n",
      "\n",
      "           b     0.8810    0.9737    0.9250        38\n",
      "           g     0.9844    0.9265    0.9545        68\n",
      "\n",
      "    accuracy                         0.9434       106\n",
      "   macro avg     0.9327    0.9501    0.9398       106\n",
      "weighted avg     0.9473    0.9434    0.9440       106\n",
      "\n"
     ]
    }
   ],
   "source": [
    "grid_predictions = clf.predict(test_X)\n",
    "print(confusion_matrix(test_y,grid_predictions))\n",
    "print(classification_report(test_y,grid_predictions,digits = 4))#Output"
   ]
  },
  {
   "cell_type": "markdown",
   "id": "b4423562",
   "metadata": {},
   "source": [
    "# Result\n"
   ]
  },
  {
   "cell_type": "markdown",
   "id": "2efb82cf",
   "metadata": {},
   "source": [
    "##   K-means\n",
    "|Accuracy|Recall|Precision\n",
    "|:------:|:------:|:------:|\n",
    "|0.8952|0.8952|0.9000|\n"
   ]
  },
  {
   "cell_type": "markdown",
   "id": "20fb66ce",
   "metadata": {},
   "source": [
    "## SVM - with best parameters\n",
    "### - Linear\n",
    "|Accuracy|Recall|Precision\n",
    "|:------:|:------:|:------:|\n",
    "|0.8585|0.8142|0.8807|\n",
    "  \n",
    "### - Polynomial with d = 3 , γ = 1, r = 1  \n",
    "|Accuracy|Recall|Precision\n",
    "|:------:|:------:|:------:|\n",
    "|0.8679|0.8506|0.8595|\n",
    "\n",
    "### - RBF with  γ = 1\n",
    "|Accuracy|Recall|Precision\n",
    "|:------:|:------:|:------:|\n",
    "|0.9434|0.9501|0.9327|"
   ]
  },
  {
   "attachments": {
    "image.png": {
     "image/png": "[encoded data removed]"
    }
   },
   "cell_type": "markdown",
   "id": "312545e9",
   "metadata": {},
   "source": [
    "# Comparison & Conclusion\n",
    "\n",
    "### K-means\n",
    "在計算與群心的距離後，若是所有群心與上一次iteration的結果一樣的話  \n",
    "就表示已達到目前最佳狀態，回傳分群結果。\n",
    "從Q1的圖中可看到，只有少部分在交界處的sample造成誤判，結果大致準確。\n",
    "\n",
    "### SVM\n",
    "\n",
    "GridSearchCV()的document中，在search時已經是以5-fold cross validation評估參數的好壞了\n",
    "因此在我的程式中沒有另外時作validation。\n",
    "![image.png](attachment:image.png)\n",
    "\n",
    "在ploynomial kernel中能發現三個參數的影響力排序明顯為 degree > gamma > coef0\n",
    "此結果與公式相符。\n",
    "\n",
    "RBF中，gamma的影響程度也隨著gamma的值指數下降，此結果與公式相符。"
   ]
  }
 ],
 "metadata": {
  "kernelspec": {
   "display_name": "Python 3 (ipykernel)",
   "language": "python",
   "name": "python3"
  },
  "language_info": {
   "codemirror_mode": {
    "name": "ipython",
    "version": 3
   },
   "file_extension": ".py",
   "mimetype": "text/x-python",
   "name": "python",
   "nbconvert_exporter": "python",
   "pygments_lexer": "ipython3",
   "version": "3.9.6"
  }
 },
 "nbformat": 4,
 "nbformat_minor": 5
}
